{
 "metadata": {
  "name": "",
  "signature": "sha256:462a2510e9f4fc3cd5ecc42a77176c5d8582ffda4a6f912eff2fc328b7d714e1"
 },
 "nbformat": 3,
 "nbformat_minor": 0,
 "worksheets": [
  {
   "cells": [
    {
     "cell_type": "code",
     "collapsed": false,
     "input": [
      "from sympy import *\n",
      "init_printing()\n",
      "f=Function('f')\n",
      "g=Function('g')\n",
      "x=Symbol('x')\n",
      "y=Symbol('y')\n",
      "k=Symbol('k')\n",
      "a,b=symbols('a,b')\n",
      "h=Function('h')\n",
      "d=Function('delta')"
     ],
     "language": "python",
     "metadata": {},
     "outputs": [],
     "prompt_number": 4
    },
    {
     "cell_type": "code",
     "collapsed": false,
     "input": [
      "Eq(g(k), 1/sqrt(2*pi)*Integral(f(x)*exp(I*x*k) ,x))"
     ],
     "language": "python",
     "metadata": {},
     "outputs": [
      {
       "latex": [
        "$$g{\\left (k \\right )} = \\frac{\\sqrt{2}}{2 \\sqrt{\\pi}} \\int f{\\left (x \\right )} e^{i k x}\\, dx$$"
       ],
       "metadata": {},
       "output_type": "pyout",
       "png": "[encoded data removed]",
       "prompt_number": 39,
       "text": [
        "             \u2320               \n",
        "         ___ \u23ae       \u2148\u22c5k\u22c5x   \n",
        "       \u2572\u2571 2 \u22c5\u23ae f(x)\u22c5\u212f      dx\n",
        "             \u2321               \n",
        "g(k) = \u2500\u2500\u2500\u2500\u2500\u2500\u2500\u2500\u2500\u2500\u2500\u2500\u2500\u2500\u2500\u2500\u2500\u2500\u2500\u2500\u2500\u2500\n",
        "                  ___        \n",
        "              2\u22c5\u2572\u2571 \u03c0         "
       ]
      }
     ],
     "prompt_number": 39
    },
    {
     "cell_type": "code",
     "collapsed": false,
     "input": [
      "Eq(h(x),1/sqrt(2*pi)*Integral(g(k)*exp(-I*x*k) ,k))"
     ],
     "language": "python",
     "metadata": {},
     "outputs": [
      {
       "latex": [
        "$$h{\\left (x \\right )} = \\frac{\\sqrt{2}}{2 \\sqrt{\\pi}} \\int g{\\left (k \\right )} e^{- i k x}\\, dk$$"
       ],
       "metadata": {},
       "output_type": "pyout",
       "png": "[encoded data removed]",
       "prompt_number": 33,
       "text": [
        "             \u2320                \n",
        "         ___ \u23ae       -\u2148\u22c5k\u22c5x   \n",
        "       \u2572\u2571 2 \u22c5\u23ae g(k)\u22c5\u212f       dk\n",
        "             \u2321                \n",
        "h(x) = \u2500\u2500\u2500\u2500\u2500\u2500\u2500\u2500\u2500\u2500\u2500\u2500\u2500\u2500\u2500\u2500\u2500\u2500\u2500\u2500\u2500\u2500\u2500\n",
        "                   ___        \n",
        "               2\u22c5\u2572\u2571 \u03c0         "
       ]
      }
     ],
     "prompt_number": 33
    },
    {
     "cell_type": "code",
     "collapsed": false,
     "input": [
      "Eq(h(x),\n",
      "   1/sqrt(2*pi)*Integral(1/sqrt(2*pi)*Integral(f(y)*exp(I*y*k) ,y)*exp(-I*x*k) ,k)\n",
      "   )"
     ],
     "language": "python",
     "metadata": {},
     "outputs": [
      {
       "latex": [
        "$$h{\\left (x \\right )} = \\frac{\\sqrt{2}}{2 \\sqrt{\\pi}} \\int \\frac{\\sqrt{2}}{2 \\sqrt{\\pi}} e^{- i k x} \\int f{\\left (y \\right )} e^{i k y}\\, dy\\, dk$$"
       ],
       "metadata": {},
       "output_type": "pyout",
       "png": "[encoded data removed]",
       "prompt_number": 22,
       "text": [
        "             \u2320                                  \n",
        "             \u23ae               \u2320                  \n",
        "             \u23ae   ___  -\u2148\u22c5k\u22c5x \u23ae       \u2148\u22c5k\u22c5y      \n",
        "             \u23ae \u2572\u2571 2 \u22c5\u212f      \u22c5\u23ae f(y)\u22c5\u212f      dy   \n",
        "         ___ \u23ae               \u2321                  \n",
        "       \u2572\u2571 2 \u22c5\u23ae \u2500\u2500\u2500\u2500\u2500\u2500\u2500\u2500\u2500\u2500\u2500\u2500\u2500\u2500\u2500\u2500\u2500\u2500\u2500\u2500\u2500\u2500\u2500\u2500\u2500\u2500\u2500\u2500\u2500\u2500 dk\n",
        "             \u23ae                ___               \n",
        "             \u23ae            2\u22c5\u2572\u2571 \u03c0                \n",
        "             \u2321                                  \n",
        "h(x) = \u2500\u2500\u2500\u2500\u2500\u2500\u2500\u2500\u2500\u2500\u2500\u2500\u2500\u2500\u2500\u2500\u2500\u2500\u2500\u2500\u2500\u2500\u2500\u2500\u2500\u2500\u2500\u2500\u2500\u2500\u2500\u2500\u2500\u2500\u2500\u2500\u2500\u2500\u2500\u2500\u2500\n",
        "                            ___                 \n",
        "                        2\u22c5\u2572\u2571 \u03c0                  "
       ]
      }
     ],
     "prompt_number": 22
    },
    {
     "cell_type": "code",
     "collapsed": false,
     "input": [
      "Eq(h(x),\n",
      "   1/sqrt(2*pi)*1/sqrt(2*pi)*Integral(Integral(f(y)*exp(I*y*k)*exp(-I*x*k) ,y) ,k)\n",
      "   )"
     ],
     "language": "python",
     "metadata": {},
     "outputs": [
      {
       "latex": [
        "$$h{\\left (x \\right )} = \\frac{1}{2 \\pi} \\iint f{\\left (y \\right )} e^{- i k x} e^{i k y}\\, dy\\, dk$$"
       ],
       "metadata": {},
       "output_type": "pyout",
       "png": "[encoded data removed]",
       "prompt_number": 23,
       "text": [
        "       \u2320 \u2320                          \n",
        "       \u23ae \u23ae       -\u2148\u22c5k\u22c5x  \u2148\u22c5k\u22c5y      \n",
        "       \u23ae \u23ae f(y)\u22c5\u212f      \u22c5\u212f      dy dk\n",
        "       \u2321 \u2321                          \n",
        "h(x) = \u2500\u2500\u2500\u2500\u2500\u2500\u2500\u2500\u2500\u2500\u2500\u2500\u2500\u2500\u2500\u2500\u2500\u2500\u2500\u2500\u2500\u2500\u2500\u2500\u2500\u2500\u2500\u2500\u2500\n",
        "                    2\u22c5\u03c0             "
       ]
      }
     ],
     "prompt_number": 23
    },
    {
     "cell_type": "code",
     "collapsed": false,
     "input": [
      "Eq(h(x),\n",
      "   1/(2*pi)*Integral(f(y)*Integral(exp(I*(y-x)*k),k) ,y)\n",
      "   )"
     ],
     "language": "python",
     "metadata": {},
     "outputs": [
      {
       "latex": [
        "$$h{\\left (x \\right )} = \\frac{1}{2 \\pi} \\int f{\\left (y \\right )} \\int e^{i k \\left(- x + y\\right)}\\, dk\\, dy$$"
       ],
       "metadata": {},
       "output_type": "pyout",
       "png": "[encoded data removed]",
       "prompt_number": 24,
       "text": [
        "       \u2320                           \n",
        "       \u23ae      \u2320                    \n",
        "       \u23ae      \u23ae  \u2148\u22c5k\u22c5(-x + y)      \n",
        "       \u23ae f(y)\u22c5\u23ae \u212f             dk dy\n",
        "       \u23ae      \u2321                    \n",
        "       \u2321                           \n",
        "h(x) = \u2500\u2500\u2500\u2500\u2500\u2500\u2500\u2500\u2500\u2500\u2500\u2500\u2500\u2500\u2500\u2500\u2500\u2500\u2500\u2500\u2500\u2500\u2500\u2500\u2500\u2500\u2500\u2500\n",
        "                   2\u22c5\u03c0             "
       ]
      }
     ],
     "prompt_number": 24
    },
    {
     "cell_type": "code",
     "collapsed": false,
     "input": [
      "Eq(Integral(exp(I*(y-x)*k),k),2*pi*d(x-y))"
     ],
     "language": "python",
     "metadata": {},
     "outputs": [
      {
       "latex": [
        "$$\\int e^{i k \\left(- x + y\\right)}\\, dk = 2 \\pi \\delta{\\left (x - y \\right )}$$"
       ],
       "metadata": {},
       "output_type": "pyout",
       "png": "[encoded data removed]",
       "prompt_number": 25,
       "text": [
        "\u2320                                \n",
        "\u23ae  \u2148\u22c5k\u22c5(-x + y)                  \n",
        "\u23ae \u212f             dk = 2\u22c5\u03c0\u22c5\u03b4(x - y)\n",
        "\u2321                                "
       ]
      }
     ],
     "prompt_number": 25
    },
    {
     "cell_type": "code",
     "collapsed": false,
     "input": [
      "Eq(exp(I*(y-x)*k),cos((y-x)*k)+I*sin((y-x)*k))"
     ],
     "language": "python",
     "metadata": {},
     "outputs": [
      {
       "latex": [
        "$$e^{i k \\left(- x + y\\right)} = i \\sin{\\left (k \\left(- x + y\\right) \\right )} + \\cos{\\left (k \\left(- x + y\\right) \\right )}$$"
       ],
       "metadata": {},
       "output_type": "pyout",
       "png": "[encoded data removed]",
       "prompt_number": 26,
       "text": [
        " \u2148\u22c5k\u22c5(-x + y)                                      \n",
        "\u212f             = \u2148\u22c5sin(k\u22c5(-x + y)) + cos(k\u22c5(-x + y))"
       ]
      }
     ],
     "prompt_number": 26
    },
    {
     "cell_type": "code",
     "collapsed": false,
     "input": [
      "Eq(h(x),\n",
      "   1/(2*pi)*Integral(f(y)*2*pi*d(x-y) ,y)\n",
      "   )"
     ],
     "language": "python",
     "metadata": {},
     "outputs": [
      {
       "latex": [
        "$$h{\\left (x \\right )} = \\frac{1}{2 \\pi} \\int 2 \\pi \\delta{\\left (x - y \\right )} f{\\left (y \\right )}\\, dy$$"
       ],
       "metadata": {},
       "output_type": "pyout",
       "png": "[encoded data removed]",
       "prompt_number": 27,
       "text": [
        "       \u2320                     \n",
        "       \u23ae 2\u22c5\u03c0\u22c5\u03b4(x - y)\u22c5f(y) dy\n",
        "       \u2321                     \n",
        "h(x) = \u2500\u2500\u2500\u2500\u2500\u2500\u2500\u2500\u2500\u2500\u2500\u2500\u2500\u2500\u2500\u2500\u2500\u2500\u2500\u2500\u2500\u2500\n",
        "                2\u22c5\u03c0          "
       ]
      }
     ],
     "prompt_number": 27
    },
    {
     "cell_type": "code",
     "collapsed": false,
     "input": [
      "Eq(h(x),\n",
      "   Integral(f(y)*d(x-y) ,y)\n",
      "   )"
     ],
     "language": "python",
     "metadata": {},
     "outputs": [
      {
       "latex": [
        "$$h{\\left (x \\right )} = \\int \\delta{\\left (x - y \\right )} f{\\left (y \\right )}\\, dy$$"
       ],
       "metadata": {},
       "output_type": "pyout",
       "png": "[encoded data removed]",
       "prompt_number": 28,
       "text": [
        "       \u2320                 \n",
        "h(x) = \u23ae \u03b4(x - y)\u22c5f(y) dy\n",
        "       \u2321                 "
       ]
      }
     ],
     "prompt_number": 28
    },
    {
     "cell_type": "code",
     "collapsed": false,
     "input": [
      "Eq(h(x),\n",
      "   f(x)\n",
      "   )"
     ],
     "language": "python",
     "metadata": {},
     "outputs": [
      {
       "latex": [
        "$$h{\\left (x \\right )} = f{\\left (x \\right )}$$"
       ],
       "metadata": {},
       "output_type": "pyout",
       "png": "[encoded data removed]",
       "prompt_number": 29,
       "text": [
        "h(x) = f(x)"
       ]
      }
     ],
     "prompt_number": 29
    },
    {
     "cell_type": "heading",
     "level": 1,
     "metadata": {},
     "source": [
      "Summering"
     ]
    },
    {
     "cell_type": "code",
     "collapsed": false,
     "input": [
      "Eq(g(k), 1/sqrt(2*pi)*Integral(f(x)*exp(I*x*k) ,x))"
     ],
     "language": "python",
     "metadata": {},
     "outputs": [
      {
       "latex": [
        "$$g{\\left (k \\right )} = \\frac{\\sqrt{2}}{2 \\sqrt{\\pi}} \\int f{\\left (x \\right )} e^{i k x}\\, dx$$"
       ],
       "metadata": {},
       "output_type": "pyout",
       "png": "[encoded data removed]",
       "prompt_number": 37,
       "text": [
        "             \u2320               \n",
        "         ___ \u23ae       \u2148\u22c5k\u22c5x   \n",
        "       \u2572\u2571 2 \u22c5\u23ae f(x)\u22c5\u212f      dx\n",
        "             \u2321               \n",
        "g(k) = \u2500\u2500\u2500\u2500\u2500\u2500\u2500\u2500\u2500\u2500\u2500\u2500\u2500\u2500\u2500\u2500\u2500\u2500\u2500\u2500\u2500\u2500\n",
        "                  ___        \n",
        "              2\u22c5\u2572\u2571 \u03c0         "
       ]
      }
     ],
     "prompt_number": 37
    },
    {
     "cell_type": "code",
     "collapsed": false,
     "input": [
      "Eq(f(x), 1/sqrt(2*pi)*Integral(g(k)*exp(-I*x*k) ,k))"
     ],
     "language": "python",
     "metadata": {},
     "outputs": [
      {
       "latex": [
        "$$f{\\left (x \\right )} = \\frac{\\sqrt{2}}{2 \\sqrt{\\pi}} \\int g{\\left (k \\right )} e^{- i k x}\\, dk$$"
       ],
       "metadata": {},
       "output_type": "pyout",
       "png": "[encoded data removed]",
       "prompt_number": 38,
       "text": [
        "             \u2320                \n",
        "         ___ \u23ae       -\u2148\u22c5k\u22c5x   \n",
        "       \u2572\u2571 2 \u22c5\u23ae g(k)\u22c5\u212f       dk\n",
        "             \u2321                \n",
        "f(x) = \u2500\u2500\u2500\u2500\u2500\u2500\u2500\u2500\u2500\u2500\u2500\u2500\u2500\u2500\u2500\u2500\u2500\u2500\u2500\u2500\u2500\u2500\u2500\n",
        "                   ___        \n",
        "               2\u22c5\u2572\u2571 \u03c0         "
       ]
      }
     ],
     "prompt_number": 38
    },
    {
     "cell_type": "heading",
     "level": 1,
     "metadata": {},
     "source": [
      "Exempel (heml\u00e4xa)"
     ]
    },
    {
     "cell_type": "code",
     "collapsed": false,
     "input": [
      "Eq(sin(x),(exp(I*x)-exp(-I*x))/(2*I))"
     ],
     "language": "python",
     "metadata": {},
     "outputs": [
      {
       "latex": [
        "$$\\sin{\\left (x \\right )} = - \\frac{i}{2} \\left(e^{i x} - e^{- i x}\\right)$$"
       ],
       "metadata": {},
       "output_type": "pyout",
       "prompt_number": 12,
       "text": [
        "            \u239b \u2148\u22c5x    -\u2148\u22c5x\u239e \n",
        "         -\u2148\u22c5\u239d\u212f    - \u212f    \u23a0 \n",
        "sin(x) = \u2500\u2500\u2500\u2500\u2500\u2500\u2500\u2500\u2500\u2500\u2500\u2500\u2500\u2500\u2500\u2500\u2500\u2500\n",
        "                 2         "
       ]
      }
     ],
     "prompt_number": 12
    },
    {
     "cell_type": "code",
     "collapsed": false,
     "input": [
      "Eq(Integral(exp(I*a*x),x),2*pi*d(a))"
     ],
     "language": "python",
     "metadata": {},
     "outputs": [
      {
       "latex": [
        "$$\\int e^{i a x}\\, dx = 2 \\pi \\delta{\\left (a \\right )}$$"
       ],
       "metadata": {},
       "output_type": "pyout",
       "prompt_number": 5,
       "text": [
        "\u2320                     \n",
        "\u23ae  \u2148\u22c5a\u22c5x              \n",
        "\u23ae \u212f      dx = 2\u22c5\u03c0\u22c5\u03b4(a)\n",
        "\u2321                     "
       ]
      }
     ],
     "prompt_number": 5
    },
    {
     "cell_type": "code",
     "collapsed": false,
     "input": [
      "Eq(f(x),a*sin(b*x))"
     ],
     "language": "python",
     "metadata": {},
     "outputs": [
      {
       "latex": [
        "$$f{\\left (x \\right )} = a \\sin{\\left (b x \\right )}$$"
       ],
       "metadata": {},
       "output_type": "pyout",
       "prompt_number": 13,
       "text": [
        "f(x) = a\u22c5sin(b\u22c5x)"
       ]
      }
     ],
     "prompt_number": 13
    },
    {
     "cell_type": "code",
     "collapsed": false,
     "input": [
      "Eq(g(k), 1/sqrt(2*pi)*Integral(f(x)*exp(I*x*k) ,x))"
     ],
     "language": "python",
     "metadata": {},
     "outputs": [
      {
       "latex": [
        "$$g{\\left (k \\right )} = \\frac{\\sqrt{2}}{2 \\sqrt{\\pi}} \\int f{\\left (x \\right )} e^{i k x}\\, dx$$"
       ],
       "metadata": {},
       "output_type": "pyout",
       "prompt_number": 14,
       "text": [
        "             \u2320               \n",
        "         ___ \u23ae       \u2148\u22c5k\u22c5x   \n",
        "       \u2572\u2571 2 \u22c5\u23ae f(x)\u22c5\u212f      dx\n",
        "             \u2321               \n",
        "g(k) = \u2500\u2500\u2500\u2500\u2500\u2500\u2500\u2500\u2500\u2500\u2500\u2500\u2500\u2500\u2500\u2500\u2500\u2500\u2500\u2500\u2500\u2500\n",
        "                  ___        \n",
        "              2\u22c5\u2572\u2571 \u03c0         "
       ]
      }
     ],
     "prompt_number": 14
    },
    {
     "cell_type": "code",
     "collapsed": false,
     "input": [
      "Eq(g(k), 1/sqrt(2*pi)*Integral(a*sin(b*x)*exp(I*x*k) ,x))"
     ],
     "language": "python",
     "metadata": {},
     "outputs": [
      {
       "latex": [
        "$$g{\\left (k \\right )} = \\frac{\\sqrt{2}}{2 \\sqrt{\\pi}} \\int a e^{i k x} \\sin{\\left (b x \\right )}\\, dx$$"
       ],
       "metadata": {},
       "output_type": "pyout",
       "prompt_number": 15,
       "text": [
        "             \u2320                     \n",
        "         ___ \u23ae    \u2148\u22c5k\u22c5x            \n",
        "       \u2572\u2571 2 \u22c5\u23ae a\u22c5\u212f     \u22c5sin(b\u22c5x) dx\n",
        "             \u2321                     \n",
        "g(k) = \u2500\u2500\u2500\u2500\u2500\u2500\u2500\u2500\u2500\u2500\u2500\u2500\u2500\u2500\u2500\u2500\u2500\u2500\u2500\u2500\u2500\u2500\u2500\u2500\u2500\u2500\u2500\u2500\n",
        "                     ___           \n",
        "                 2\u22c5\u2572\u2571 \u03c0            "
       ]
      }
     ],
     "prompt_number": 15
    },
    {
     "cell_type": "code",
     "collapsed": false,
     "input": [
      "Eq(g(k), 1/sqrt(2*pi)*Integral(a*((exp(I*b*x)-exp(-I*b*x))/(2*I))*exp(I*x*k) ,x))"
     ],
     "language": "python",
     "metadata": {},
     "outputs": [
      {
       "latex": [
        "$$g{\\left (k \\right )} = \\frac{\\sqrt{2}}{2 \\sqrt{\\pi}} \\int - \\frac{i a}{2} \\left(e^{i b x} - e^{- i b x}\\right) e^{i k x}\\, dx$$"
       ],
       "metadata": {},
       "output_type": "pyout",
       "prompt_number": 21,
       "text": [
        "             \u2320                                   \n",
        "             \u23ae      \u239b \u2148\u22c5b\u22c5x    -\u2148\u22c5b\u22c5x\u239e  \u2148\u22c5k\u22c5x    \n",
        "         ___ \u23ae -\u2148\u22c5a\u22c5\u239d\u212f      - \u212f      \u23a0\u22c5\u212f         \n",
        "       \u2572\u2571 2 \u22c5\u23ae \u2500\u2500\u2500\u2500\u2500\u2500\u2500\u2500\u2500\u2500\u2500\u2500\u2500\u2500\u2500\u2500\u2500\u2500\u2500\u2500\u2500\u2500\u2500\u2500\u2500\u2500\u2500\u2500\u2500\u2500\u2500 dx\n",
        "             \u23ae                2                  \n",
        "             \u2321                                   \n",
        "g(k) = \u2500\u2500\u2500\u2500\u2500\u2500\u2500\u2500\u2500\u2500\u2500\u2500\u2500\u2500\u2500\u2500\u2500\u2500\u2500\u2500\u2500\u2500\u2500\u2500\u2500\u2500\u2500\u2500\u2500\u2500\u2500\u2500\u2500\u2500\u2500\u2500\u2500\u2500\u2500\u2500\u2500\u2500\n",
        "                            ___                  \n",
        "                        2\u22c5\u2572\u2571 \u03c0                   "
       ]
      }
     ],
     "prompt_number": 21
    },
    {
     "cell_type": "code",
     "collapsed": false,
     "input": [
      "Eq(g(k), 1/sqrt(2*pi)*Integral(((exp(I*b*x)*exp(I*x*k)-exp(-I*b*x)*exp(I*x*k)))*a/(2*I) ,x))"
     ],
     "language": "python",
     "metadata": {},
     "outputs": [
      {
       "latex": [
        "$$g{\\left (k \\right )} = \\frac{\\sqrt{2}}{2 \\sqrt{\\pi}} \\int - \\frac{i a}{2} \\left(e^{i b x} e^{i k x} - e^{- i b x} e^{i k x}\\right)\\, dx$$"
       ],
       "metadata": {},
       "output_type": "pyout",
       "prompt_number": 22,
       "text": [
        "             \u2320                                          \n",
        "             \u23ae      \u239b \u2148\u22c5b\u22c5x  \u2148\u22c5k\u22c5x    -\u2148\u22c5b\u22c5x  \u2148\u22c5k\u22c5x\u239e    \n",
        "         ___ \u23ae -\u2148\u22c5a\u22c5\u239d\u212f     \u22c5\u212f      - \u212f      \u22c5\u212f     \u23a0    \n",
        "       \u2572\u2571 2 \u22c5\u23ae \u2500\u2500\u2500\u2500\u2500\u2500\u2500\u2500\u2500\u2500\u2500\u2500\u2500\u2500\u2500\u2500\u2500\u2500\u2500\u2500\u2500\u2500\u2500\u2500\u2500\u2500\u2500\u2500\u2500\u2500\u2500\u2500\u2500\u2500\u2500\u2500\u2500\u2500 dx\n",
        "             \u23ae                   2                      \n",
        "             \u2321                                          \n",
        "g(k) = \u2500\u2500\u2500\u2500\u2500\u2500\u2500\u2500\u2500\u2500\u2500\u2500\u2500\u2500\u2500\u2500\u2500\u2500\u2500\u2500\u2500\u2500\u2500\u2500\u2500\u2500\u2500\u2500\u2500\u2500\u2500\u2500\u2500\u2500\u2500\u2500\u2500\u2500\u2500\u2500\u2500\u2500\u2500\u2500\u2500\u2500\u2500\u2500\u2500\n",
        "                                ___                     \n",
        "                            2\u22c5\u2572\u2571 \u03c0                      "
       ]
      }
     ],
     "prompt_number": 22
    },
    {
     "cell_type": "code",
     "collapsed": false,
     "input": [
      "Eq(g(k), 1/sqrt(2*pi)*Integral((exp(I*b*x+I*x*k)-exp(-I*b*x+I*x*k))*a/(2*I) ,x))"
     ],
     "language": "python",
     "metadata": {},
     "outputs": [
      {
       "latex": [
        "$$g{\\left (k \\right )} = \\frac{\\sqrt{2}}{2 \\sqrt{\\pi}} \\int - \\frac{i a}{2} \\left(- e^{- i b x + i k x} + e^{i b x + i k x}\\right)\\, dx$$"
       ],
       "metadata": {},
       "output_type": "pyout",
       "prompt_number": 26,
       "text": [
        "             \u2320                                              \n",
        "             \u23ae      \u239b   -\u2148\u22c5b\u22c5x + \u2148\u22c5k\u22c5x    \u2148\u22c5b\u22c5x + \u2148\u22c5k\u22c5x\u239e    \n",
        "         ___ \u23ae -\u2148\u22c5a\u22c5\u239d- \u212f               + \u212f             \u23a0    \n",
        "       \u2572\u2571 2 \u22c5\u23ae \u2500\u2500\u2500\u2500\u2500\u2500\u2500\u2500\u2500\u2500\u2500\u2500\u2500\u2500\u2500\u2500\u2500\u2500\u2500\u2500\u2500\u2500\u2500\u2500\u2500\u2500\u2500\u2500\u2500\u2500\u2500\u2500\u2500\u2500\u2500\u2500\u2500\u2500\u2500\u2500\u2500\u2500 dx\n",
        "             \u23ae                     2                        \n",
        "             \u2321                                              \n",
        "g(k) = \u2500\u2500\u2500\u2500\u2500\u2500\u2500\u2500\u2500\u2500\u2500\u2500\u2500\u2500\u2500\u2500\u2500\u2500\u2500\u2500\u2500\u2500\u2500\u2500\u2500\u2500\u2500\u2500\u2500\u2500\u2500\u2500\u2500\u2500\u2500\u2500\u2500\u2500\u2500\u2500\u2500\u2500\u2500\u2500\u2500\u2500\u2500\u2500\u2500\u2500\u2500\u2500\u2500\n",
        "                                  ___                       \n",
        "                              2\u22c5\u2572\u2571 \u03c0                        "
       ]
      }
     ],
     "prompt_number": 26
    },
    {
     "cell_type": "code",
     "collapsed": false,
     "input": [
      "Eq(g(k), 1/sqrt(2*pi)*a/(2*I)*Integral(exp(I*b*x+I*x*k)-exp(-I*b*x+I*x*k),x))"
     ],
     "language": "python",
     "metadata": {},
     "outputs": [
      {
       "latex": [
        "$$g{\\left (k \\right )} = - \\frac{\\sqrt{2} i a}{4 \\sqrt{\\pi}} \\int - e^{- i b x + i k x} + e^{i b x + i k x}\\, dx$$"
       ],
       "metadata": {},
       "output_type": "pyout",
       "prompt_number": 27,
       "text": [
        "                  \u2320                                         \n",
        "          ___     \u23ae \u239b   -\u2148\u22c5b\u22c5x + \u2148\u22c5k\u22c5x    \u2148\u22c5b\u22c5x + \u2148\u22c5k\u22c5x\u239e    \n",
        "       -\u2572\u2571 2 \u22c5\u2148\u22c5a\u22c5\u23ae \u239d- \u212f               + \u212f             \u23a0 dx \n",
        "                  \u2321                                         \n",
        "g(k) = \u2500\u2500\u2500\u2500\u2500\u2500\u2500\u2500\u2500\u2500\u2500\u2500\u2500\u2500\u2500\u2500\u2500\u2500\u2500\u2500\u2500\u2500\u2500\u2500\u2500\u2500\u2500\u2500\u2500\u2500\u2500\u2500\u2500\u2500\u2500\u2500\u2500\u2500\u2500\u2500\u2500\u2500\u2500\u2500\u2500\u2500\u2500\u2500\u2500\u2500\u2500\u2500\u2500\n",
        "                                  ___                       \n",
        "                              4\u22c5\u2572\u2571 \u03c0                        "
       ]
      }
     ],
     "prompt_number": 27
    },
    {
     "cell_type": "code",
     "collapsed": false,
     "input": [
      "Eq(g(k), a/(sqrt(2*pi)*(2*I))*Integral(exp(I*b*x+I*x*k)-exp(-I*b*x+I*x*k),x))"
     ],
     "language": "python",
     "metadata": {},
     "outputs": [
      {
       "latex": [
        "$$g{\\left (k \\right )} = - \\frac{\\sqrt{2} i a}{4 \\sqrt{\\pi}} \\int - e^{- i b x + i k x} + e^{i b x + i k x}\\, dx$$"
       ],
       "metadata": {},
       "output_type": "pyout",
       "prompt_number": 28,
       "text": [
        "                  \u2320                                         \n",
        "          ___     \u23ae \u239b   -\u2148\u22c5b\u22c5x + \u2148\u22c5k\u22c5x    \u2148\u22c5b\u22c5x + \u2148\u22c5k\u22c5x\u239e    \n",
        "       -\u2572\u2571 2 \u22c5\u2148\u22c5a\u22c5\u23ae \u239d- \u212f               + \u212f             \u23a0 dx \n",
        "                  \u2321                                         \n",
        "g(k) = \u2500\u2500\u2500\u2500\u2500\u2500\u2500\u2500\u2500\u2500\u2500\u2500\u2500\u2500\u2500\u2500\u2500\u2500\u2500\u2500\u2500\u2500\u2500\u2500\u2500\u2500\u2500\u2500\u2500\u2500\u2500\u2500\u2500\u2500\u2500\u2500\u2500\u2500\u2500\u2500\u2500\u2500\u2500\u2500\u2500\u2500\u2500\u2500\u2500\u2500\u2500\u2500\u2500\n",
        "                                  ___                       \n",
        "                              4\u22c5\u2572\u2571 \u03c0                        "
       ]
      }
     ],
     "prompt_number": 28
    },
    {
     "cell_type": "code",
     "collapsed": false,
     "input": [
      "Eq(g(k), a/(sqrt(2*pi)*(2*I))*Integral(exp(I*x*(b+k))-exp(-I*x*(b+k)),x))"
     ],
     "language": "python",
     "metadata": {},
     "outputs": [
      {
       "latex": [
        "$$g{\\left (k \\right )} = - \\frac{\\sqrt{2} i a}{4 \\sqrt{\\pi}} \\int e^{i x \\left(b + k\\right)} - e^{- i x \\left(b + k\\right)}\\, dx$$"
       ],
       "metadata": {},
       "output_type": "pyout",
       "prompt_number": 30,
       "text": [
        "                  \u2320                                   \n",
        "          ___     \u23ae \u239b \u2148\u22c5x\u22c5(b + k)    -\u2148\u22c5x\u22c5(b + k)\u239e    \n",
        "       -\u2572\u2571 2 \u22c5\u2148\u22c5a\u22c5\u23ae \u239d\u212f            - \u212f            \u23a0 dx \n",
        "                  \u2321                                   \n",
        "g(k) = \u2500\u2500\u2500\u2500\u2500\u2500\u2500\u2500\u2500\u2500\u2500\u2500\u2500\u2500\u2500\u2500\u2500\u2500\u2500\u2500\u2500\u2500\u2500\u2500\u2500\u2500\u2500\u2500\u2500\u2500\u2500\u2500\u2500\u2500\u2500\u2500\u2500\u2500\u2500\u2500\u2500\u2500\u2500\u2500\u2500\u2500\u2500\n",
        "                               ___                    \n",
        "                           4\u22c5\u2572\u2571 \u03c0                     "
       ]
      }
     ],
     "prompt_number": 30
    },
    {
     "cell_type": "code",
     "collapsed": false,
     "input": [
      "Eq(g(k), a/(sqrt(2*pi)*(2*I))*(Integral(exp(I*x*(b+k)), x)-Integral(exp(-I*x*(b+k)),x)))"
     ],
     "language": "python",
     "metadata": {},
     "outputs": [
      {
       "latex": [
        "$$g{\\left (k \\right )} = - \\frac{\\sqrt{2} i a}{4 \\sqrt{\\pi}} \\left(- \\int e^{- i x \\left(b + k\\right)}\\, dx + \\int e^{i x \\left(b + k\\right)}\\, dx\\right)$$"
       ],
       "metadata": {},
       "output_type": "pyout",
       "prompt_number": 31,
       "text": [
        "                  \u239b  \u2320                    \u2320                \u239e \n",
        "          ___     \u239c  \u23ae  -\u2148\u22c5x\u22c5(b + k)      \u23ae  \u2148\u22c5x\u22c5(b + k)   \u239f \n",
        "       -\u2572\u2571 2 \u22c5\u2148\u22c5a\u22c5\u239c- \u23ae \u212f             dx + \u23ae \u212f            dx\u239f \n",
        "                  \u239d  \u2321                    \u2321                \u23a0 \n",
        "g(k) = \u2500\u2500\u2500\u2500\u2500\u2500\u2500\u2500\u2500\u2500\u2500\u2500\u2500\u2500\u2500\u2500\u2500\u2500\u2500\u2500\u2500\u2500\u2500\u2500\u2500\u2500\u2500\u2500\u2500\u2500\u2500\u2500\u2500\u2500\u2500\u2500\u2500\u2500\u2500\u2500\u2500\u2500\u2500\u2500\u2500\u2500\u2500\u2500\u2500\u2500\u2500\u2500\u2500\u2500\n",
        "                                  ___                        \n",
        "                              4\u22c5\u2572\u2571 \u03c0                         "
       ]
      }
     ],
     "prompt_number": 31
    },
    {
     "cell_type": "code",
     "collapsed": false,
     "input": [
      "Eq(g(k), a/(sqrt(2*pi)*(2*I))*(2*pi*d(b+k)-2*pi*d(-b-k)))"
     ],
     "language": "python",
     "metadata": {},
     "outputs": [
      {
       "latex": [
        "$$g{\\left (k \\right )} = - \\frac{\\sqrt{2} i a}{4 \\sqrt{\\pi}} \\left(- 2 \\pi \\delta{\\left (- b - k \\right )} + 2 \\pi \\delta{\\left (b + k \\right )}\\right)$$"
       ],
       "metadata": {},
       "output_type": "pyout",
       "prompt_number": 9,
       "text": [
        "          ___                                     \n",
        "       -\u2572\u2571 2 \u22c5\u2148\u22c5a\u22c5(-2\u22c5\u03c0\u22c5\u03b4(-b - k) + 2\u22c5\u03c0\u22c5\u03b4(b + k)) \n",
        "g(k) = \u2500\u2500\u2500\u2500\u2500\u2500\u2500\u2500\u2500\u2500\u2500\u2500\u2500\u2500\u2500\u2500\u2500\u2500\u2500\u2500\u2500\u2500\u2500\u2500\u2500\u2500\u2500\u2500\u2500\u2500\u2500\u2500\u2500\u2500\u2500\u2500\u2500\u2500\u2500\u2500\u2500\u2500\u2500\n",
        "                             ___                  \n",
        "                         4\u22c5\u2572\u2571 \u03c0                   "
       ]
      }
     ],
     "prompt_number": 9
    },
    {
     "cell_type": "code",
     "collapsed": false,
     "input": [
      "Eq(g(k), a/(sqrt(2*pi)*I)*pi*(d(b+k)-d(-b-k)))"
     ],
     "language": "python",
     "metadata": {},
     "outputs": [
      {
       "latex": [
        "$$g{\\left (k \\right )} = - \\frac{i a}{2} \\sqrt{2} \\sqrt{\\pi} \\left(- \\delta{\\left (- b - k \\right )} + \\delta{\\left (b + k \\right )}\\right)$$"
       ],
       "metadata": {},
       "output_type": "pyout",
       "prompt_number": 8,
       "text": [
        "          ___     ___                           \n",
        "       -\u2572\u2571 2 \u22c5\u2148\u22c5\u2572\u2571 \u03c0 \u22c5a\u22c5(-\u03b4(-b - k) + \u03b4(b + k)) \n",
        "g(k) = \u2500\u2500\u2500\u2500\u2500\u2500\u2500\u2500\u2500\u2500\u2500\u2500\u2500\u2500\u2500\u2500\u2500\u2500\u2500\u2500\u2500\u2500\u2500\u2500\u2500\u2500\u2500\u2500\u2500\u2500\u2500\u2500\u2500\u2500\u2500\u2500\u2500\u2500\u2500\u2500\u2500\n",
        "                           2                    "
       ]
      }
     ],
     "prompt_number": 8
    },
    {
     "cell_type": "heading",
     "level": 1,
     "metadata": {},
     "source": [
      "R\u00e4kna bakl\u00e4nges"
     ]
    },
    {
     "cell_type": "code",
     "collapsed": false,
     "input": [
      "Eq(g(k), a/(sqrt(2*pi)*I)*pi*(d(b+k)-d(-b-k)))"
     ],
     "language": "python",
     "metadata": {},
     "outputs": [
      {
       "latex": [
        "$$g{\\left (k \\right )} = - \\frac{i a}{2} \\sqrt{2} \\sqrt{\\pi} \\left(- \\delta{\\left (- b - k \\right )} + \\delta{\\left (b + k \\right )}\\right)$$"
       ],
       "metadata": {},
       "output_type": "pyout",
       "prompt_number": 10,
       "text": [
        "          ___     ___                           \n",
        "       -\u2572\u2571 2 \u22c5\u2148\u22c5\u2572\u2571 \u03c0 \u22c5a\u22c5(-\u03b4(-b - k) + \u03b4(b + k)) \n",
        "g(k) = \u2500\u2500\u2500\u2500\u2500\u2500\u2500\u2500\u2500\u2500\u2500\u2500\u2500\u2500\u2500\u2500\u2500\u2500\u2500\u2500\u2500\u2500\u2500\u2500\u2500\u2500\u2500\u2500\u2500\u2500\u2500\u2500\u2500\u2500\u2500\u2500\u2500\u2500\u2500\u2500\u2500\n",
        "                           2                    "
       ]
      }
     ],
     "prompt_number": 10
    },
    {
     "cell_type": "code",
     "collapsed": false,
     "input": [
      "Eq(f(x),1/sqrt(2*pi)*Integral(g(k)*exp(-I*x*k) ,k))"
     ],
     "language": "python",
     "metadata": {},
     "outputs": [
      {
       "latex": [
        "$$f{\\left (x \\right )} = \\frac{\\sqrt{2}}{2 \\sqrt{\\pi}} \\int g{\\left (k \\right )} e^{- i k x}\\, dk$$"
       ],
       "metadata": {},
       "output_type": "pyout",
       "prompt_number": 11,
       "text": [
        "             \u2320                \n",
        "         ___ \u23ae       -\u2148\u22c5k\u22c5x   \n",
        "       \u2572\u2571 2 \u22c5\u23ae g(k)\u22c5\u212f       dk\n",
        "             \u2321                \n",
        "f(x) = \u2500\u2500\u2500\u2500\u2500\u2500\u2500\u2500\u2500\u2500\u2500\u2500\u2500\u2500\u2500\u2500\u2500\u2500\u2500\u2500\u2500\u2500\u2500\n",
        "                   ___        \n",
        "               2\u22c5\u2572\u2571 \u03c0         "
       ]
      }
     ],
     "prompt_number": 11
    },
    {
     "cell_type": "code",
     "collapsed": false,
     "input": [
      "Eq(f(x),1/sqrt(2*pi)*Integral(a/(sqrt(2*pi)*I)*pi*(d(b+k)-d(-b-k))*exp(-I*x*k) ,k))"
     ],
     "language": "python",
     "metadata": {},
     "outputs": [
      {
       "latex": [
        "$$f{\\left (x \\right )} = \\frac{\\sqrt{2}}{2 \\sqrt{\\pi}} \\int - \\frac{i a}{2} \\sqrt{2} \\sqrt{\\pi} \\left(- \\delta{\\left (- b - k \\right )} + \\delta{\\left (b + k \\right )}\\right) e^{- i k x}\\, dk$$"
       ],
       "metadata": {},
       "output_type": "pyout",
       "prompt_number": 12,
       "text": [
        "             \u2320                                                     \n",
        "             \u23ae    ___     ___                            -\u2148\u22c5k\u22c5x    \n",
        "         ___ \u23ae -\u2572\u2571 2 \u22c5\u2148\u22c5\u2572\u2571 \u03c0 \u22c5a\u22c5(-\u03b4(-b - k) + \u03b4(b + k))\u22c5\u212f          \n",
        "       \u2572\u2571 2 \u22c5\u23ae \u2500\u2500\u2500\u2500\u2500\u2500\u2500\u2500\u2500\u2500\u2500\u2500\u2500\u2500\u2500\u2500\u2500\u2500\u2500\u2500\u2500\u2500\u2500\u2500\u2500\u2500\u2500\u2500\u2500\u2500\u2500\u2500\u2500\u2500\u2500\u2500\u2500\u2500\u2500\u2500\u2500\u2500\u2500\u2500\u2500\u2500\u2500\u2500\u2500 dk\n",
        "             \u23ae                         2                           \n",
        "             \u2321                                                     \n",
        "f(x) = \u2500\u2500\u2500\u2500\u2500\u2500\u2500\u2500\u2500\u2500\u2500\u2500\u2500\u2500\u2500\u2500\u2500\u2500\u2500\u2500\u2500\u2500\u2500\u2500\u2500\u2500\u2500\u2500\u2500\u2500\u2500\u2500\u2500\u2500\u2500\u2500\u2500\u2500\u2500\u2500\u2500\u2500\u2500\u2500\u2500\u2500\u2500\u2500\u2500\u2500\u2500\u2500\u2500\u2500\u2500\u2500\u2500\u2500\u2500\u2500\n",
        "                                     ___                           \n",
        "                                 2\u22c5\u2572\u2571 \u03c0                            "
       ]
      }
     ],
     "prompt_number": 12
    },
    {
     "cell_type": "code",
     "collapsed": false,
     "input": [
      "Eq(f(x),1/sqrt(2*pi)*a/(sqrt(2*pi)*I)*pi*Integral((d(b+k)-d(-b-k))*exp(-I*x*k) ,k))"
     ],
     "language": "python",
     "metadata": {},
     "outputs": [
      {
       "latex": [
        "$$f{\\left (x \\right )} = - \\frac{i a}{2} \\int \\left(- \\delta{\\left (- b - k \\right )} + \\delta{\\left (b + k \\right )}\\right) e^{- i k x}\\, dk$$"
       ],
       "metadata": {},
       "output_type": "pyout",
       "prompt_number": 13,
       "text": [
        "            \u2320                                    \n",
        "            \u23ae                          -\u2148\u22c5k\u22c5x    \n",
        "       -\u2148\u22c5a\u22c5\u23ae (-\u03b4(-b - k) + \u03b4(b + k))\u22c5\u212f       dk \n",
        "            \u2321                                    \n",
        "f(x) = \u2500\u2500\u2500\u2500\u2500\u2500\u2500\u2500\u2500\u2500\u2500\u2500\u2500\u2500\u2500\u2500\u2500\u2500\u2500\u2500\u2500\u2500\u2500\u2500\u2500\u2500\u2500\u2500\u2500\u2500\u2500\u2500\u2500\u2500\u2500\u2500\u2500\u2500\u2500\u2500\u2500\u2500\n",
        "                           2                     "
       ]
      }
     ],
     "prompt_number": 13
    },
    {
     "cell_type": "code",
     "collapsed": false,
     "input": [
      "Eq(f(x),a/(2*I)*Integral((d(b+k)-d(-b-k))*exp(-I*x*k) ,k))"
     ],
     "language": "python",
     "metadata": {},
     "outputs": [
      {
       "latex": [
        "$$f{\\left (x \\right )} = - \\frac{i a}{2} \\int \\left(- \\delta{\\left (- b - k \\right )} + \\delta{\\left (b + k \\right )}\\right) e^{- i k x}\\, dk$$"
       ],
       "metadata": {},
       "output_type": "pyout",
       "prompt_number": 14,
       "text": [
        "            \u2320                                    \n",
        "            \u23ae                          -\u2148\u22c5k\u22c5x    \n",
        "       -\u2148\u22c5a\u22c5\u23ae (-\u03b4(-b - k) + \u03b4(b + k))\u22c5\u212f       dk \n",
        "            \u2321                                    \n",
        "f(x) = \u2500\u2500\u2500\u2500\u2500\u2500\u2500\u2500\u2500\u2500\u2500\u2500\u2500\u2500\u2500\u2500\u2500\u2500\u2500\u2500\u2500\u2500\u2500\u2500\u2500\u2500\u2500\u2500\u2500\u2500\u2500\u2500\u2500\u2500\u2500\u2500\u2500\u2500\u2500\u2500\u2500\u2500\n",
        "                           2                     "
       ]
      }
     ],
     "prompt_number": 14
    },
    {
     "cell_type": "code",
     "collapsed": false,
     "input": [
      "Eq(f(x),a/(2*I)*(Integral(d(b+k)*exp(-I*x*k),k)-Integral(d(-b-k)*exp(-I*x*k) ,k)))"
     ],
     "language": "python",
     "metadata": {},
     "outputs": [
      {
       "latex": [
        "$$f{\\left (x \\right )} = - \\frac{i a}{2} \\left(- \\int \\delta{\\left (- b - k \\right )} e^{- i k x}\\, dk + \\int \\delta{\\left (b + k \\right )} e^{- i k x}\\, dk\\right)$$"
       ],
       "metadata": {},
       "output_type": "pyout",
       "prompt_number": 15,
       "text": [
        "            \u239b  \u2320                        \u2320                    \u239e \n",
        "            \u239c  \u23ae            -\u2148\u22c5k\u22c5x      \u23ae           -\u2148\u22c5k\u22c5x   \u239f \n",
        "       -\u2148\u22c5a\u22c5\u239c- \u23ae \u03b4(-b - k)\u22c5\u212f       dk + \u23ae \u03b4(b + k)\u22c5\u212f       dk\u239f \n",
        "            \u239d  \u2321                        \u2321                    \u23a0 \n",
        "f(x) = \u2500\u2500\u2500\u2500\u2500\u2500\u2500\u2500\u2500\u2500\u2500\u2500\u2500\u2500\u2500\u2500\u2500\u2500\u2500\u2500\u2500\u2500\u2500\u2500\u2500\u2500\u2500\u2500\u2500\u2500\u2500\u2500\u2500\u2500\u2500\u2500\u2500\u2500\u2500\u2500\u2500\u2500\u2500\u2500\u2500\u2500\u2500\u2500\u2500\u2500\u2500\u2500\u2500\u2500\u2500\u2500\n",
        "                                  2                            "
       ]
      }
     ],
     "prompt_number": 15
    },
    {
     "cell_type": "code",
     "collapsed": false,
     "input": [
      "Eq(f(x),a/(2*I)*(Integral(d(b+k)*exp(I*x*b),k)-Integral(d(-b-k)*exp(I*x*b) ,k)))"
     ],
     "language": "python",
     "metadata": {},
     "outputs": [
      {
       "latex": [
        "$$f{\\left (x \\right )} = - \\frac{i a}{2} \\left(- \\int \\delta{\\left (- b - k \\right )} e^{i b x}\\, dk + \\int \\delta{\\left (b + k \\right )} e^{i b x}\\, dk\\right)$$"
       ],
       "metadata": {},
       "output_type": "pyout",
       "prompt_number": 16,
       "text": [
        "            \u239b  \u2320                       \u2320                   \u239e \n",
        "            \u239c  \u23ae            \u2148\u22c5b\u22c5x      \u23ae           \u2148\u22c5b\u22c5x   \u239f \n",
        "       -\u2148\u22c5a\u22c5\u239c- \u23ae \u03b4(-b - k)\u22c5\u212f      dk + \u23ae \u03b4(b + k)\u22c5\u212f      dk\u239f \n",
        "            \u239d  \u2321                       \u2321                   \u23a0 \n",
        "f(x) = \u2500\u2500\u2500\u2500\u2500\u2500\u2500\u2500\u2500\u2500\u2500\u2500\u2500\u2500\u2500\u2500\u2500\u2500\u2500\u2500\u2500\u2500\u2500\u2500\u2500\u2500\u2500\u2500\u2500\u2500\u2500\u2500\u2500\u2500\u2500\u2500\u2500\u2500\u2500\u2500\u2500\u2500\u2500\u2500\u2500\u2500\u2500\u2500\u2500\u2500\u2500\u2500\u2500\u2500\n",
        "                                 2                           "
       ]
      }
     ],
     "prompt_number": 16
    },
    {
     "cell_type": "code",
     "collapsed": false,
     "input": [
      "Eq(f(x),a/(2*I)*(Integral(d(b+k),k)-Integral(d(-b-k),k))*exp(I*x*b))"
     ],
     "language": "python",
     "metadata": {},
     "outputs": [
      {
       "latex": [
        "$$f{\\left (x \\right )} = - \\frac{i a}{2} \\left(- \\int \\delta{\\left (- b - k \\right )}\\, dk + \\int \\delta{\\left (b + k \\right )}\\, dk\\right) e^{i b x}$$"
       ],
       "metadata": {},
       "output_type": "pyout",
       "prompt_number": 18,
       "text": [
        "            \u239b  \u2320                \u2320            \u239e  \u2148\u22c5b\u22c5x \n",
        "       -\u2148\u22c5a\u22c5\u239c- \u23ae \u03b4(-b - k) dk + \u23ae \u03b4(b + k) dk\u239f\u22c5\u212f      \n",
        "            \u239d  \u2321                \u2321            \u23a0        \n",
        "f(x) = \u2500\u2500\u2500\u2500\u2500\u2500\u2500\u2500\u2500\u2500\u2500\u2500\u2500\u2500\u2500\u2500\u2500\u2500\u2500\u2500\u2500\u2500\u2500\u2500\u2500\u2500\u2500\u2500\u2500\u2500\u2500\u2500\u2500\u2500\u2500\u2500\u2500\u2500\u2500\u2500\u2500\u2500\u2500\u2500\u2500\u2500\u2500\n",
        "                              2                       "
       ]
      }
     ],
     "prompt_number": 18
    },
    {
     "cell_type": "code",
     "collapsed": false,
     "input": [
      "Eq(f(x),a/(2*I)*(1-1)*exp(I*x*b))"
     ],
     "language": "python",
     "metadata": {},
     "outputs": [
      {
       "latex": [
        "$$f{\\left (x \\right )} = 0$$"
       ],
       "metadata": {},
       "output_type": "pyout",
       "prompt_number": 19,
       "text": [
        "f(x) = 0"
       ]
      }
     ],
     "prompt_number": 19
    },
    {
     "cell_type": "heading",
     "level": 1,
     "metadata": {},
     "source": [
      ":("
     ]
    },
    {
     "cell_type": "code",
     "collapsed": false,
     "input": [],
     "language": "python",
     "metadata": {},
     "outputs": []
    }
   ],
   "metadata": {}
  }
 ]
}